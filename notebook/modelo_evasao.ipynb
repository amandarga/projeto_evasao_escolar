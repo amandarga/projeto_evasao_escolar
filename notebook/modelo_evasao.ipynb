{
  "cells": [
    {
      "cell_type": "code",
      "execution_count": 1,
      "metadata": {
        "id": "NbC3y9AEtwBR"
      },
      "outputs": [],
      "source": [
        "# Bibliotecas\n",
        "import pandas as pd\n",
        "import requests\n",
        "import json\n"
      ]
    },
    {
      "cell_type": "code",
      "execution_count": 2,
      "metadata": {
        "colab": {
          "base_uri": "https://localhost:8080/",
          "height": 206
        },
        "id": "6gI6_iizvGYL",
        "outputId": "58d29b7b-50cf-470b-8e0d-68a3739cf1fd"
      },
      "outputs": [
        {
          "data": {
            "text/html": [
              "<div>\n",
              "<style scoped>\n",
              "    .dataframe tbody tr th:only-of-type {\n",
              "        vertical-align: middle;\n",
              "    }\n",
              "\n",
              "    .dataframe tbody tr th {\n",
              "        vertical-align: top;\n",
              "    }\n",
              "\n",
              "    .dataframe thead th {\n",
              "        text-align: right;\n",
              "    }\n",
              "</style>\n",
              "<table border=\"1\" class=\"dataframe\">\n",
              "  <thead>\n",
              "    <tr style=\"text-align: right;\">\n",
              "      <th></th>\n",
              "      <th>Ano</th>\n",
              "      <th>Unidade_Geografica</th>\n",
              "      <th>Regiao</th>\n",
              "      <th>Localizacao</th>\n",
              "      <th>Dependencia_Administrativa</th>\n",
              "      <th>Grupo_de_Abandono</th>\n",
              "      <th>Taxa_Abandono</th>\n",
              "      <th>Renda_Media</th>\n",
              "    </tr>\n",
              "  </thead>\n",
              "  <tbody>\n",
              "    <tr>\n",
              "      <th>0</th>\n",
              "      <td>2013</td>\n",
              "      <td>Norte</td>\n",
              "      <td>Brasil</td>\n",
              "      <td>Total</td>\n",
              "      <td>Total</td>\n",
              "      <td>Ensino Fundamental</td>\n",
              "      <td>4.0</td>\n",
              "      <td>2252</td>\n",
              "    </tr>\n",
              "    <tr>\n",
              "      <th>1</th>\n",
              "      <td>2013</td>\n",
              "      <td>Norte</td>\n",
              "      <td>Brasil</td>\n",
              "      <td>Total</td>\n",
              "      <td>Pública</td>\n",
              "      <td>Ensino Fundamental</td>\n",
              "      <td>4.3</td>\n",
              "      <td>2252</td>\n",
              "    </tr>\n",
              "    <tr>\n",
              "      <th>2</th>\n",
              "      <td>2013</td>\n",
              "      <td>Norte</td>\n",
              "      <td>Brasil</td>\n",
              "      <td>Total</td>\n",
              "      <td>Privada</td>\n",
              "      <td>Ensino Fundamental</td>\n",
              "      <td>0.3</td>\n",
              "      <td>2252</td>\n",
              "    </tr>\n",
              "    <tr>\n",
              "      <th>3</th>\n",
              "      <td>2013</td>\n",
              "      <td>Norte</td>\n",
              "      <td>Brasil</td>\n",
              "      <td>Total</td>\n",
              "      <td>Municipal</td>\n",
              "      <td>Ensino Fundamental</td>\n",
              "      <td>4.3</td>\n",
              "      <td>2252</td>\n",
              "    </tr>\n",
              "    <tr>\n",
              "      <th>4</th>\n",
              "      <td>2013</td>\n",
              "      <td>Norte</td>\n",
              "      <td>Brasil</td>\n",
              "      <td>Total</td>\n",
              "      <td>Federal</td>\n",
              "      <td>Ensino Fundamental</td>\n",
              "      <td>0.0</td>\n",
              "      <td>2252</td>\n",
              "    </tr>\n",
              "  </tbody>\n",
              "</table>\n",
              "</div>"
            ],
            "text/plain": [
              "    Ano Unidade_Geografica  Regiao Localizacao Dependencia_Administrativa  \\\n",
              "0  2013              Norte  Brasil       Total                      Total   \n",
              "1  2013              Norte  Brasil       Total                    Pública   \n",
              "2  2013              Norte  Brasil       Total                    Privada   \n",
              "3  2013              Norte  Brasil       Total                  Municipal   \n",
              "4  2013              Norte  Brasil       Total                    Federal   \n",
              "\n",
              "    Grupo_de_Abandono  Taxa_Abandono  Renda_Media  \n",
              "0  Ensino Fundamental            4.0         2252  \n",
              "1  Ensino Fundamental            4.3         2252  \n",
              "2  Ensino Fundamental            0.3         2252  \n",
              "3  Ensino Fundamental            4.3         2252  \n",
              "4  Ensino Fundamental            0.0         2252  "
            ]
          },
          "execution_count": 2,
          "metadata": {},
          "output_type": "execute_result"
        }
      ],
      "source": [
        "import pandas as pd\n",
        "\n",
        "# Carregar o CSV\n",
        "df = pd.read_csv('../dados/AbandonoEscolar_RendaMedia_2013_2023.csv')\n",
        "\n",
        "# Ver as primeiras linhas\n",
        "df.head()\n"
      ]
    },
    {
      "cell_type": "code",
      "execution_count": 3,
      "metadata": {
        "colab": {
          "base_uri": "https://localhost:8080/",
          "height": 178
        },
        "id": "ycVjOFF4wScQ",
        "outputId": "7d3e8885-f63e-4210-8b85-0c18be36c1a7"
      },
      "outputs": [
        {
          "data": {
            "text/plain": [
              "evasao_alta\n",
              "0    89921\n",
              "1      239\n",
              "Name: count, dtype: int64"
            ]
          },
          "execution_count": 3,
          "metadata": {},
          "output_type": "execute_result"
        }
      ],
      "source": [
        "# Criar variável alvo\n",
        "df['evasao_alta'] = (df['Taxa_Abandono'] > 20).astype(int)\n",
        "\n",
        "# Ver distribuição da variável alvo\n",
        "df['evasao_alta'].value_counts()\n"
      ]
    },
    {
      "cell_type": "code",
      "execution_count": 4,
      "metadata": {
        "id": "gSZ7WyfjwniP"
      },
      "outputs": [],
      "source": [
        "# Selecionar features e target\n",
        "features = ['Ano', 'Regiao', 'Localizacao', 'Dependencia_Administrativa', 'Renda_Media']\n",
        "target = 'evasao_alta'\n",
        "\n",
        "df = df[features + [target]]\n"
      ]
    },
    {
      "cell_type": "code",
      "execution_count": 5,
      "metadata": {
        "colab": {
          "base_uri": "https://localhost:8080/",
          "height": 244
        },
        "id": "yjYanl8gwqDB",
        "outputId": "25f3b5b4-40c5-4a7e-df57-4f14a31ec4d3"
      },
      "outputs": [
        {
          "data": {
            "text/html": [
              "<div>\n",
              "<style scoped>\n",
              "    .dataframe tbody tr th:only-of-type {\n",
              "        vertical-align: middle;\n",
              "    }\n",
              "\n",
              "    .dataframe tbody tr th {\n",
              "        vertical-align: top;\n",
              "    }\n",
              "\n",
              "    .dataframe thead th {\n",
              "        text-align: right;\n",
              "    }\n",
              "</style>\n",
              "<table border=\"1\" class=\"dataframe\">\n",
              "  <thead>\n",
              "    <tr style=\"text-align: right;\">\n",
              "      <th></th>\n",
              "      <th>Ano</th>\n",
              "      <th>Renda_Media</th>\n",
              "      <th>evasao_alta</th>\n",
              "      <th>Regiao_Centro-Oeste</th>\n",
              "      <th>Regiao_Nordeste</th>\n",
              "      <th>Regiao_Norte</th>\n",
              "      <th>Regiao_Sudeste</th>\n",
              "      <th>Regiao_Sul</th>\n",
              "      <th>Localizacao_Total</th>\n",
              "      <th>Localizacao_Urbana</th>\n",
              "      <th>Dependencia_Administrativa_Federal</th>\n",
              "      <th>Dependencia_Administrativa_Municipal</th>\n",
              "      <th>Dependencia_Administrativa_Privada</th>\n",
              "      <th>Dependencia_Administrativa_Pública</th>\n",
              "      <th>Dependencia_Administrativa_Total</th>\n",
              "    </tr>\n",
              "  </thead>\n",
              "  <tbody>\n",
              "    <tr>\n",
              "      <th>0</th>\n",
              "      <td>2013</td>\n",
              "      <td>2252</td>\n",
              "      <td>0</td>\n",
              "      <td>False</td>\n",
              "      <td>False</td>\n",
              "      <td>False</td>\n",
              "      <td>False</td>\n",
              "      <td>False</td>\n",
              "      <td>True</td>\n",
              "      <td>False</td>\n",
              "      <td>False</td>\n",
              "      <td>False</td>\n",
              "      <td>False</td>\n",
              "      <td>False</td>\n",
              "      <td>True</td>\n",
              "    </tr>\n",
              "    <tr>\n",
              "      <th>1</th>\n",
              "      <td>2013</td>\n",
              "      <td>2252</td>\n",
              "      <td>0</td>\n",
              "      <td>False</td>\n",
              "      <td>False</td>\n",
              "      <td>False</td>\n",
              "      <td>False</td>\n",
              "      <td>False</td>\n",
              "      <td>True</td>\n",
              "      <td>False</td>\n",
              "      <td>False</td>\n",
              "      <td>False</td>\n",
              "      <td>False</td>\n",
              "      <td>True</td>\n",
              "      <td>False</td>\n",
              "    </tr>\n",
              "    <tr>\n",
              "      <th>2</th>\n",
              "      <td>2013</td>\n",
              "      <td>2252</td>\n",
              "      <td>0</td>\n",
              "      <td>False</td>\n",
              "      <td>False</td>\n",
              "      <td>False</td>\n",
              "      <td>False</td>\n",
              "      <td>False</td>\n",
              "      <td>True</td>\n",
              "      <td>False</td>\n",
              "      <td>False</td>\n",
              "      <td>False</td>\n",
              "      <td>True</td>\n",
              "      <td>False</td>\n",
              "      <td>False</td>\n",
              "    </tr>\n",
              "    <tr>\n",
              "      <th>3</th>\n",
              "      <td>2013</td>\n",
              "      <td>2252</td>\n",
              "      <td>0</td>\n",
              "      <td>False</td>\n",
              "      <td>False</td>\n",
              "      <td>False</td>\n",
              "      <td>False</td>\n",
              "      <td>False</td>\n",
              "      <td>True</td>\n",
              "      <td>False</td>\n",
              "      <td>False</td>\n",
              "      <td>True</td>\n",
              "      <td>False</td>\n",
              "      <td>False</td>\n",
              "      <td>False</td>\n",
              "    </tr>\n",
              "    <tr>\n",
              "      <th>4</th>\n",
              "      <td>2013</td>\n",
              "      <td>2252</td>\n",
              "      <td>0</td>\n",
              "      <td>False</td>\n",
              "      <td>False</td>\n",
              "      <td>False</td>\n",
              "      <td>False</td>\n",
              "      <td>False</td>\n",
              "      <td>True</td>\n",
              "      <td>False</td>\n",
              "      <td>True</td>\n",
              "      <td>False</td>\n",
              "      <td>False</td>\n",
              "      <td>False</td>\n",
              "      <td>False</td>\n",
              "    </tr>\n",
              "  </tbody>\n",
              "</table>\n",
              "</div>"
            ],
            "text/plain": [
              "    Ano  Renda_Media  evasao_alta  Regiao_Centro-Oeste  Regiao_Nordeste  \\\n",
              "0  2013         2252            0                False            False   \n",
              "1  2013         2252            0                False            False   \n",
              "2  2013         2252            0                False            False   \n",
              "3  2013         2252            0                False            False   \n",
              "4  2013         2252            0                False            False   \n",
              "\n",
              "   Regiao_Norte  Regiao_Sudeste  Regiao_Sul  Localizacao_Total  \\\n",
              "0         False           False       False               True   \n",
              "1         False           False       False               True   \n",
              "2         False           False       False               True   \n",
              "3         False           False       False               True   \n",
              "4         False           False       False               True   \n",
              "\n",
              "   Localizacao_Urbana  Dependencia_Administrativa_Federal  \\\n",
              "0               False                               False   \n",
              "1               False                               False   \n",
              "2               False                               False   \n",
              "3               False                               False   \n",
              "4               False                                True   \n",
              "\n",
              "   Dependencia_Administrativa_Municipal  Dependencia_Administrativa_Privada  \\\n",
              "0                                 False                               False   \n",
              "1                                 False                               False   \n",
              "2                                 False                                True   \n",
              "3                                  True                               False   \n",
              "4                                 False                               False   \n",
              "\n",
              "   Dependencia_Administrativa_Pública  Dependencia_Administrativa_Total  \n",
              "0                               False                              True  \n",
              "1                                True                             False  \n",
              "2                               False                             False  \n",
              "3                               False                             False  \n",
              "4                               False                             False  "
            ]
          },
          "execution_count": 5,
          "metadata": {},
          "output_type": "execute_result"
        }
      ],
      "source": [
        "df_encoded = pd.get_dummies(df, columns=['Regiao', 'Localizacao', 'Dependencia_Administrativa'], drop_first=True)\n",
        "df_encoded.head()\n"
      ]
    },
    {
      "cell_type": "code",
      "execution_count": 6,
      "metadata": {
        "id": "sRQGzVXFwzyn"
      },
      "outputs": [],
      "source": [
        "from sklearn.model_selection import train_test_split\n",
        "\n",
        "X = df_encoded.drop('evasao_alta', axis=1)\n",
        "y = df_encoded['evasao_alta']\n",
        "\n",
        "X_train, X_test, y_train, y_test = train_test_split(X, y, test_size=0.2, random_state=42)\n"
      ]
    },
    {
      "cell_type": "code",
      "execution_count": 7,
      "metadata": {
        "colab": {
          "base_uri": "https://localhost:8080/"
        },
        "id": "nmkWfsmvw4Jc",
        "outputId": "a2762c7e-decb-40e4-d769-09dc8a52fd0f"
      },
      "outputs": [
        {
          "name": "stdout",
          "output_type": "stream",
          "text": [
            "              precision    recall  f1-score   support\n",
            "\n",
            "           0       1.00      1.00      1.00     17988\n",
            "           1       0.00      0.00      0.00        44\n",
            "\n",
            "    accuracy                           1.00     18032\n",
            "   macro avg       0.50      0.50      0.50     18032\n",
            "weighted avg       1.00      1.00      1.00     18032\n",
            "\n"
          ]
        },
        {
          "name": "stderr",
          "output_type": "stream",
          "text": [
            "C:\\Users\\amand\\AppData\\Local\\Packages\\PythonSoftwareFoundation.Python.3.13_qbz5n2kfra8p0\\LocalCache\\local-packages\\Python313\\site-packages\\sklearn\\metrics\\_classification.py:1565: UndefinedMetricWarning: Precision is ill-defined and being set to 0.0 in labels with no predicted samples. Use `zero_division` parameter to control this behavior.\n",
            "  _warn_prf(average, modifier, f\"{metric.capitalize()} is\", len(result))\n",
            "C:\\Users\\amand\\AppData\\Local\\Packages\\PythonSoftwareFoundation.Python.3.13_qbz5n2kfra8p0\\LocalCache\\local-packages\\Python313\\site-packages\\sklearn\\metrics\\_classification.py:1565: UndefinedMetricWarning: Precision is ill-defined and being set to 0.0 in labels with no predicted samples. Use `zero_division` parameter to control this behavior.\n",
            "  _warn_prf(average, modifier, f\"{metric.capitalize()} is\", len(result))\n",
            "C:\\Users\\amand\\AppData\\Local\\Packages\\PythonSoftwareFoundation.Python.3.13_qbz5n2kfra8p0\\LocalCache\\local-packages\\Python313\\site-packages\\sklearn\\metrics\\_classification.py:1565: UndefinedMetricWarning: Precision is ill-defined and being set to 0.0 in labels with no predicted samples. Use `zero_division` parameter to control this behavior.\n",
            "  _warn_prf(average, modifier, f\"{metric.capitalize()} is\", len(result))\n"
          ]
        }
      ],
      "source": [
        "from sklearn.ensemble import GradientBoostingClassifier\n",
        "from sklearn.metrics import classification_report\n",
        "\n",
        "# Treinamento\n",
        "model = GradientBoostingClassifier()\n",
        "model.fit(X_train, y_train)\n",
        "\n",
        "# Predição e avaliação\n",
        "y_pred = model.predict(X_test)\n",
        "print(classification_report(y_test, y_pred))\n"
      ]
    },
    {
      "cell_type": "code",
      "execution_count": 8,
      "metadata": {
        "colab": {
          "base_uri": "https://localhost:8080/"
        },
        "id": "g9CuDM48xN_3",
        "outputId": "e36c949e-aaaa-4235-e30a-3d4d701c7a18"
      },
      "outputs": [
        {
          "name": "stdout",
          "output_type": "stream",
          "text": [
            "Antes: {0: 71933, 1: 195}\n",
            "Depois: {0: 71933, 1: 71933}\n"
          ]
        }
      ],
      "source": [
        "from imblearn.over_sampling import SMOTE\n",
        "\n",
        "smote = SMOTE(random_state=42)\n",
        "X_resampled, y_resampled = smote.fit_resample(X_train, y_train)\n",
        "\n",
        "print(\"Antes:\", y_train.value_counts().to_dict())\n",
        "print(\"Depois:\", pd.Series(y_resampled).value_counts().to_dict())\n"
      ]
    },
    {
      "cell_type": "code",
      "execution_count": 9,
      "metadata": {
        "colab": {
          "base_uri": "https://localhost:8080/"
        },
        "id": "YDW2sAULxbnc",
        "outputId": "0a425a65-7560-4654-ec14-b4981114f2fe"
      },
      "outputs": [
        {
          "name": "stdout",
          "output_type": "stream",
          "text": [
            "              precision    recall  f1-score   support\n",
            "\n",
            "           0       1.00      0.91      0.95     17988\n",
            "           1       0.02      0.59      0.03        44\n",
            "\n",
            "    accuracy                           0.91     18032\n",
            "   macro avg       0.51      0.75      0.49     18032\n",
            "weighted avg       1.00      0.91      0.95     18032\n",
            "\n",
            "[[16298  1690]\n",
            " [   18    26]]\n"
          ]
        }
      ],
      "source": [
        "from sklearn.ensemble import GradientBoostingClassifier\n",
        "from sklearn.metrics import classification_report, confusion_matrix\n",
        "\n",
        "# Treinar com os dados balanceados\n",
        "model = GradientBoostingClassifier(random_state=42)\n",
        "model.fit(X_resampled, y_resampled)\n",
        "\n",
        "# Fazer predições no conjunto de teste\n",
        "y_pred = model.predict(X_test)\n",
        "\n",
        "# Avaliação\n",
        "print(classification_report(y_test, y_pred))\n",
        "print(confusion_matrix(y_test, y_pred))\n"
      ]
    }
  ],
  "metadata": {
    "colab": {
      "provenance": []
    },
    "kernelspec": {
      "display_name": "Python 3",
      "name": "python3"
    },
    "language_info": {
      "codemirror_mode": {
        "name": "ipython",
        "version": 3
      },
      "file_extension": ".py",
      "mimetype": "text/x-python",
      "name": "python",
      "nbconvert_exporter": "python",
      "pygments_lexer": "ipython3",
      "version": "3.13.3"
    }
  },
  "nbformat": 4,
  "nbformat_minor": 0
}
